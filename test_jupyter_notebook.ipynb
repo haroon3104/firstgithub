{
 "cells": [
  {
   "cell_type": "markdown",
   "id": "272d47ec",
   "metadata": {},
   "source": [
    "#  Python Ka chilla with baba ammar\n",
    "## how to use jupyter notebook\n",
    "### our basics of python\n",
    "01- My first program"
   ]
  },
  {
   "cell_type": "code",
   "execution_count": 1,
   "id": "a9bc9b13",
   "metadata": {},
   "outputs": [
    {
     "name": "stdout",
     "output_type": "stream",
     "text": [
      "5\n",
      "I will must learn\n",
      "we are learning python with Haroon\n"
     ]
    }
   ],
   "source": [
    "#My first program in Python\n",
    "print(2+3)\n",
    "print(\"I will must learn\")\n",
    "print(\"we are learning python with Haroon\")\n"
   ]
  },
  {
   "cell_type": "code",
   "execution_count": 3,
   "id": "1860f992",
   "metadata": {},
   "outputs": [
    {
     "ename": "SyntaxError",
     "evalue": "leading zeros in decimal integer literals are not permitted; use an 0o prefix for octal integers (4289470424.py, line 1)",
     "output_type": "error",
     "traceback": [
      "\u001b[1;36m  Cell \u001b[1;32mIn[3], line 1\u001b[1;36m\u001b[0m\n\u001b[1;33m    02-operators\u001b[0m\n\u001b[1;37m    ^\u001b[0m\n\u001b[1;31mSyntaxError\u001b[0m\u001b[1;31m:\u001b[0m leading zeros in decimal integer literals are not permitted; use an 0o prefix for octal integers\n"
     ]
    }
   ],
   "source": [
    "02-operators\n",
    "##print(2**3)\n",
    "*print(3**2*3/3+6-4)*\n",
    "\n",
    "#pemdas"
   ]
  }
 ],
 "metadata": {
  "kernelspec": {
   "display_name": "Python 3 (ipykernel)",
   "language": "python",
   "name": "python3"
  },
  "language_info": {
   "codemirror_mode": {
    "name": "ipython",
    "version": 3
   },
   "file_extension": ".py",
   "mimetype": "text/x-python",
   "name": "python",
   "nbconvert_exporter": "python",
   "pygments_lexer": "ipython3",
   "version": "3.11.4"
  }
 },
 "nbformat": 4,
 "nbformat_minor": 5
}
