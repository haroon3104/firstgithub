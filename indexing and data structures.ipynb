{
 "cells": [
  {
   "cell_type": "markdown",
   "id": "cead0623",
   "metadata": {},
   "source": [
    "# Indexing\n",
    "a = \"samosa pakora\"\n",
    "a"
   ]
  },
  {
   "cell_type": "code",
   "execution_count": 1,
   "id": "a474f532",
   "metadata": {},
   "outputs": [
    {
     "ename": "NameError",
     "evalue": "name 'a' is not defined",
     "output_type": "error",
     "traceback": [
      "\u001b[1;31m---------------------------------------------------------------------------\u001b[0m",
      "\u001b[1;31mNameError\u001b[0m                                 Traceback (most recent call last)",
      "Cell \u001b[1;32mIn[1], line 2\u001b[0m\n\u001b[0;32m      1\u001b[0m \u001b[38;5;66;03m# kength of indexing\u001b[39;00m\n\u001b[1;32m----> 2\u001b[0m \u001b[38;5;28mlen\u001b[39m(a)\n",
      "\u001b[1;31mNameError\u001b[0m: name 'a' is not defined"
     ]
    }
   ],
   "source": [
    "# kength of indexing\n",
    "len(a)"
   ]
  },
  {
   "cell_type": "code",
   "execution_count": null,
   "id": "98e8f4ae",
   "metadata": {},
   "outputs": [],
   "source": [
    "a[0]\n",
    "a[1]\n"
   ]
  },
  {
   "cell_type": "code",
   "execution_count": null,
   "id": "4fb99fc8",
   "metadata": {},
   "outputs": [],
   "source": [
    "a[3]"
   ]
  },
  {
   "cell_type": "code",
   "execution_count": null,
   "id": "63f921c0",
   "metadata": {},
   "outputs": [],
   "source": [
    "a[11]"
   ]
  },
  {
   "cell_type": "code",
   "execution_count": null,
   "id": "fa3f8db2",
   "metadata": {},
   "outputs": [],
   "source": [
    "a[0:5]"
   ]
  },
  {
   "cell_type": "code",
   "execution_count": null,
   "id": "2a89f342",
   "metadata": {},
   "outputs": [],
   "source": [
    "a[0-5]"
   ]
  },
  {
   "cell_type": "code",
   "execution_count": null,
   "id": "d8a03cc3",
   "metadata": {},
   "outputs": [],
   "source": [
    "# last index is inclusive\n",
    "a[0:13]"
   ]
  },
  {
   "cell_type": "code",
   "execution_count": null,
   "id": "dde237a7",
   "metadata": {},
   "outputs": [],
   "source": [
    "a[-6:13]"
   ]
  },
  {
   "cell_type": "code",
   "execution_count": 5,
   "id": "714d3325",
   "metadata": {},
   "outputs": [
    {
     "data": {
      "text/plain": [
       "'biryani'"
      ]
     },
     "execution_count": 5,
     "metadata": {},
     "output_type": "execute_result"
    }
   ],
   "source": [
    "food = \"biryani\"\n",
    "food"
   ]
  },
  {
   "cell_type": "markdown",
   "id": "1eb80524",
   "metadata": {},
   "source": [
    "# String methods"
   ]
  },
  {
   "cell_type": "code",
   "execution_count": null,
   "id": "21b451a9",
   "metadata": {},
   "outputs": [],
   "source": [
    "food"
   ]
  },
  {
   "cell_type": "code",
   "execution_count": null,
   "id": "c9489195",
   "metadata": {},
   "outputs": [],
   "source": [
    "len(food)"
   ]
  },
  {
   "cell_type": "code",
   "execution_count": null,
   "id": "4f25a881",
   "metadata": {},
   "outputs": [],
   "source": [
    "# yahan pe ham ny captilize kia hay , food dot k bad tab dbayen gy to sary option aa jayen gy\n",
    "food.capitalize()"
   ]
  },
  {
   "cell_type": "code",
   "execution_count": null,
   "id": "c51ef5c6",
   "metadata": {},
   "outputs": [],
   "source": [
    "# for upper case letter\n",
    "food.upper()"
   ]
  },
  {
   "cell_type": "code",
   "execution_count": null,
   "id": "0a7aabc0",
   "metadata": {},
   "outputs": [],
   "source": [
    "# lower case lettes main change karny k liye\n",
    "food.lower()"
   ]
  },
  {
   "cell_type": "code",
   "execution_count": 8,
   "id": "feb7beb5",
   "metadata": {},
   "outputs": [
    {
     "data": {
      "text/plain": [
       "'shiryani'"
      ]
     },
     "execution_count": 8,
     "metadata": {},
     "output_type": "execute_result"
    }
   ],
   "source": [
    "# replace bhi kar sakty hain kisi bhi letter ko kis other letter k sath\n",
    "food.replace(\"b\",\"sh\")"
   ]
  },
  {
   "cell_type": "code",
   "execution_count": 9,
   "id": "bc3599c6",
   "metadata": {},
   "outputs": [
    {
     "data": {
      "text/plain": [
       "'baba_ammar with Dr Ammar Tufail'"
      ]
     },
     "execution_count": 9,
     "metadata": {},
     "output_type": "execute_result"
    }
   ],
   "source": [
    "# counting a specific place of alphabet in a string\n",
    "name = \"baba_ammar with Dr Ammar Tufail\"\n",
    "name"
   ]
  },
  {
   "cell_type": "code",
   "execution_count": 13,
   "id": "5b88bd3d",
   "metadata": {},
   "outputs": [
    {
     "data": {
      "text/plain": [
       "1"
      ]
     },
     "execution_count": 13,
     "metadata": {},
     "output_type": "execute_result"
    }
   ],
   "source": [
    "name.count(\"T\")"
   ]
  },
  {
   "cell_type": "markdown",
   "id": "754e8c5c",
   "metadata": {},
   "source": [
    "# how to find an index number in a string"
   ]
  },
  {
   "cell_type": "code",
   "execution_count": 14,
   "id": "83d60d36",
   "metadata": {},
   "outputs": [
    {
     "data": {
      "text/plain": [
       "'baba_ammar with Dr Ammar Tufail'"
      ]
     },
     "execution_count": 14,
     "metadata": {},
     "output_type": "execute_result"
    }
   ],
   "source": [
    "name = \"baba_ammar with Dr Ammar Tufail\"\n",
    "name"
   ]
  },
  {
   "cell_type": "code",
   "execution_count": 19,
   "id": "a5650e19",
   "metadata": {},
   "outputs": [
    {
     "data": {
      "text/plain": [
       "16"
      ]
     },
     "execution_count": 19,
     "metadata": {},
     "output_type": "execute_result"
    }
   ],
   "source": [
    "name.find(\"D\")"
   ]
  },
  {
   "cell_type": "code",
   "execution_count": 21,
   "id": "29101461",
   "metadata": {},
   "outputs": [
    {
     "data": {
      "text/plain": [
       "'I love samosa, Pakora, Raita, biryani and karahiii'"
      ]
     },
     "execution_count": 21,
     "metadata": {},
     "output_type": "execute_result"
    }
   ],
   "source": [
    "# How to split a string\n",
    "food = \"I love samosa, Pakora, Raita, biryani and karahiii\"\n",
    "food"
   ]
  },
  {
   "cell_type": "code",
   "execution_count": 22,
   "id": "31228ea4",
   "metadata": {},
   "outputs": [
    {
     "data": {
      "text/plain": [
       "['I love samosa', ' Pakora', ' Raita', ' biryani and karahiii']"
      ]
     },
     "execution_count": 22,
     "metadata": {},
     "output_type": "execute_result"
    }
   ],
   "source": [
    "food.split(\",\")"
   ]
  },
  {
   "cell_type": "markdown",
   "id": "2bc2e102",
   "metadata": {},
   "source": [
    "## Basic data Structures in Python\n",
    "1. Tuple\n",
    "2. List\n",
    "3. Dictionaries\n",
    "4. Set"
   ]
  },
  {
   "cell_type": "markdown",
   "id": "d4a28655",
   "metadata": {},
   "source": [
    "## 1-Tuple\n",
    "order collection of elements\n",
    "enclosed in () round brackets, pranthes\n",
    "different kind of elements can be stored\n",
    "once elements are stored you cannot changed (unmutateable)"
   ]
  },
  {
   "cell_type": "code",
   "execution_count": 25,
   "id": "4c61c29b",
   "metadata": {},
   "outputs": [
    {
     "data": {
      "text/plain": [
       "(1, 'python', True, 2.5)"
      ]
     },
     "execution_count": 25,
     "metadata": {},
     "output_type": "execute_result"
    }
   ],
   "source": [
    "tuple1 = (1, \"python\", True, 2.5)\n",
    "tuple1"
   ]
  },
  {
   "cell_type": "code",
   "execution_count": 26,
   "id": "d9b03914",
   "metadata": {},
   "outputs": [
    {
     "data": {
      "text/plain": [
       "tuple"
      ]
     },
     "execution_count": 26,
     "metadata": {},
     "output_type": "execute_result"
    }
   ],
   "source": [
    "# type of a tuple\n",
    "type(tuple1)"
   ]
  },
  {
   "cell_type": "markdown",
   "id": "87a2d347",
   "metadata": {},
   "source": [
    "### - Indexing in tuple\n"
   ]
  },
  {
   "cell_type": "code",
   "execution_count": 29,
   "id": "bcfc7685",
   "metadata": {},
   "outputs": [
    {
     "data": {
      "text/plain": [
       "True"
      ]
     },
     "execution_count": 29,
     "metadata": {},
     "output_type": "execute_result"
    }
   ],
   "source": [
    "tuple1[2]"
   ]
  },
  {
   "cell_type": "code",
   "execution_count": 31,
   "id": "cf325381",
   "metadata": {},
   "outputs": [
    {
     "data": {
      "text/plain": [
       "(1, 'python', True, 2.5)"
      ]
     },
     "execution_count": 31,
     "metadata": {},
     "output_type": "execute_result"
    }
   ],
   "source": [
    "# last element is exclusive\n",
    "tuple1[0:5]"
   ]
  },
  {
   "cell_type": "code",
   "execution_count": 34,
   "id": "b4e743d3",
   "metadata": {},
   "outputs": [
    {
     "data": {
      "text/plain": [
       "4"
      ]
     },
     "execution_count": 34,
     "metadata": {},
     "output_type": "execute_result"
    }
   ],
   "source": [
    "# count of elements in tuple\n",
    "\n",
    "len(tuple1)\n"
   ]
  },
  {
   "cell_type": "code",
   "execution_count": 45,
   "id": "38c50ab6",
   "metadata": {},
   "outputs": [
    {
     "data": {
      "text/plain": [
       "(2, 'baba ammar', 3.5, False)"
      ]
     },
     "execution_count": 45,
     "metadata": {},
     "output_type": "execute_result"
    }
   ],
   "source": [
    "tuple2 = (2, \"baba ammar\", 3.5, False)\n",
    "tuple2"
   ]
  },
  {
   "cell_type": "code",
   "execution_count": 46,
   "id": "dcdaaaa8",
   "metadata": {},
   "outputs": [
    {
     "data": {
      "text/plain": [
       "(1, 'python', True, 2.5, 2, 'baba ammar', 3.5, False)"
      ]
     },
     "execution_count": 46,
     "metadata": {},
     "output_type": "execute_result"
    }
   ],
   "source": [
    "# concatinate tuple 1 and tuple 2\n",
    "tuple1+tuple2\n"
   ]
  },
  {
   "cell_type": "code",
   "execution_count": 48,
   "id": "6879cbdd",
   "metadata": {},
   "outputs": [
    {
     "data": {
      "text/plain": [
       "(1, 'python', True, 2.5, 1, 'python', True, 2.5, 2, 'baba ammar', 3.5, False)"
      ]
     },
     "execution_count": 48,
     "metadata": {},
     "output_type": "execute_result"
    }
   ],
   "source": [
    "tuple1*2+tuple2"
   ]
  },
  {
   "cell_type": "code",
   "execution_count": 49,
   "id": "1994e004",
   "metadata": {},
   "outputs": [
    {
     "data": {
      "text/plain": [
       "(20, 50, 30, 50, 79, 85)"
      ]
     },
     "execution_count": 49,
     "metadata": {},
     "output_type": "execute_result"
    }
   ],
   "source": [
    "tuple3 = (20,50,30,50,79,85)\n",
    "tuple3"
   ]
  },
  {
   "cell_type": "code",
   "execution_count": 52,
   "id": "37e31f17",
   "metadata": {},
   "outputs": [
    {
     "data": {
      "text/plain": [
       "85"
      ]
     },
     "execution_count": 52,
     "metadata": {},
     "output_type": "execute_result"
    }
   ],
   "source": [
    "# minimum and maximum values\n",
    "min(tuple3)\n",
    "max(tuple3)"
   ]
  },
  {
   "cell_type": "code",
   "execution_count": 53,
   "id": "48660c92",
   "metadata": {},
   "outputs": [
    {
     "data": {
      "text/plain": [
       "(20, 50, 30, 50, 79, 85, 20, 50, 30, 50, 79, 85)"
      ]
     },
     "execution_count": 53,
     "metadata": {},
     "output_type": "execute_result"
    }
   ],
   "source": [
    "tuple3*2"
   ]
  },
  {
   "cell_type": "markdown",
   "id": "7923469f",
   "metadata": {},
   "source": [
    "## 2-List\n",
    "- ordered collection of elements\n",
    "- enclosed in [] square brackets\n",
    "- mutateable, you can change the values\n"
   ]
  },
  {
   "cell_type": "code",
   "execution_count": 54,
   "id": "e753e0b1",
   "metadata": {},
   "outputs": [
    {
     "data": {
      "text/plain": [
       "[2, 'haroon', False]"
      ]
     },
     "execution_count": 54,
     "metadata": {},
     "output_type": "execute_result"
    }
   ],
   "source": [
    "list1 = [2, \"haroon\", False]\n",
    "list1"
   ]
  },
  {
   "cell_type": "code",
   "execution_count": 55,
   "id": "7a2c0def",
   "metadata": {},
   "outputs": [
    {
     "data": {
      "text/plain": [
       "list"
      ]
     },
     "execution_count": 55,
     "metadata": {},
     "output_type": "execute_result"
    }
   ],
   "source": [
    "type(list1)"
   ]
  },
  {
   "cell_type": "code",
   "execution_count": 56,
   "id": "0e04c088",
   "metadata": {},
   "outputs": [
    {
     "data": {
      "text/plain": [
       "3"
      ]
     },
     "execution_count": 56,
     "metadata": {},
     "output_type": "execute_result"
    }
   ],
   "source": [
    "len(list1)"
   ]
  },
  {
   "cell_type": "code",
   "execution_count": 57,
   "id": "f7295f32",
   "metadata": {},
   "outputs": [
    {
     "data": {
      "text/plain": [
       "False"
      ]
     },
     "execution_count": 57,
     "metadata": {},
     "output_type": "execute_result"
    }
   ],
   "source": [
    "list1[2]"
   ]
  },
  {
   "cell_type": "code",
   "execution_count": 59,
   "id": "8bae2af3",
   "metadata": {},
   "outputs": [
    {
     "data": {
      "text/plain": [
       "[3, 5, 'ammar', 'codenics', 478, 53.2, False]"
      ]
     },
     "execution_count": 59,
     "metadata": {},
     "output_type": "execute_result"
    }
   ],
   "source": [
    "list2 = [3,5,\"ammar\",\"codenics\",478, 53.2, False]\n",
    "list2"
   ]
  },
  {
   "cell_type": "code",
   "execution_count": 60,
   "id": "351f3608",
   "metadata": {},
   "outputs": [
    {
     "data": {
      "text/plain": [
       "[2, 'haroon', False, 3, 5, 'ammar', 'codenics', 478, 53.2, False]"
      ]
     },
     "execution_count": 60,
     "metadata": {},
     "output_type": "execute_result"
    }
   ],
   "source": [
    "list1+list2"
   ]
  },
  {
   "cell_type": "code",
   "execution_count": 62,
   "id": "cc2b4cd5",
   "metadata": {},
   "outputs": [
    {
     "data": {
      "text/plain": [
       "[2, 'haroon', False, 2, 'haroon', False]"
      ]
     },
     "execution_count": 62,
     "metadata": {},
     "output_type": "execute_result"
    }
   ],
   "source": [
    "list1*2\n"
   ]
  },
  {
   "cell_type": "code",
   "execution_count": 69,
   "id": "ae0016e1",
   "metadata": {
    "scrolled": true
   },
   "outputs": [
    {
     "data": {
      "text/plain": [
       "[False, 'haroon', 2]"
      ]
     },
     "execution_count": 69,
     "metadata": {},
     "output_type": "execute_result"
    }
   ],
   "source": [
    "list1.reverse()\n",
    "list1"
   ]
  },
  {
   "cell_type": "code",
   "execution_count": 71,
   "id": "a0fc0387",
   "metadata": {},
   "outputs": [
    {
     "data": {
      "text/plain": [
       "[False, 'haroon', 2, 'codanins youtube channel', 'codanins youtube channel']"
      ]
     },
     "execution_count": 71,
     "metadata": {},
     "output_type": "execute_result"
    }
   ],
   "source": [
    "list1.append(\"codanins youtube channel\")\n",
    "list1"
   ]
  },
  {
   "cell_type": "code",
   "execution_count": 81,
   "id": "4ae633ae",
   "metadata": {},
   "outputs": [
    {
     "data": {
      "text/plain": [
       "0"
      ]
     },
     "execution_count": 81,
     "metadata": {},
     "output_type": "execute_result"
    }
   ],
   "source": [
    "list1.count(\"%you%\")"
   ]
  },
  {
   "cell_type": "code",
   "execution_count": 83,
   "id": "454f19da",
   "metadata": {},
   "outputs": [
    {
     "data": {
      "text/plain": [
       "[20, 30, 35, 15, 12, 10, 8, 7]"
      ]
     },
     "execution_count": 83,
     "metadata": {},
     "output_type": "execute_result"
    }
   ],
   "source": [
    "list3 = [20,30,35,15,12,10,8,7]\n",
    "list3"
   ]
  },
  {
   "cell_type": "code",
   "execution_count": 84,
   "id": "dd0d29b6",
   "metadata": {},
   "outputs": [
    {
     "data": {
      "text/plain": [
       "8"
      ]
     },
     "execution_count": 84,
     "metadata": {},
     "output_type": "execute_result"
    }
   ],
   "source": [
    "len(list3)"
   ]
  },
  {
   "cell_type": "code",
   "execution_count": 86,
   "id": "8226f426",
   "metadata": {},
   "outputs": [
    {
     "data": {
      "text/plain": [
       "[7, 8, 10, 12, 15, 20, 30, 35]"
      ]
     },
     "execution_count": 86,
     "metadata": {},
     "output_type": "execute_result"
    }
   ],
   "source": [
    "# sorting a list\n",
    "list3.sort()\n",
    "list3"
   ]
  },
  {
   "cell_type": "code",
   "execution_count": 87,
   "id": "8be0d730",
   "metadata": {},
   "outputs": [
    {
     "data": {
      "text/plain": [
       "[7,\n",
       " 8,\n",
       " 10,\n",
       " 12,\n",
       " 15,\n",
       " 20,\n",
       " 30,\n",
       " 35,\n",
       " 7,\n",
       " 8,\n",
       " 10,\n",
       " 12,\n",
       " 15,\n",
       " 20,\n",
       " 30,\n",
       " 35,\n",
       " 7,\n",
       " 8,\n",
       " 10,\n",
       " 12,\n",
       " 15,\n",
       " 20,\n",
       " 30,\n",
       " 35]"
      ]
     },
     "execution_count": 87,
     "metadata": {},
     "output_type": "execute_result"
    }
   ],
   "source": [
    "list3*3"
   ]
  },
  {
   "cell_type": "code",
   "execution_count": 91,
   "id": "7bf615e6",
   "metadata": {},
   "outputs": [
    {
     "data": {
      "text/plain": [
       "[False,\n",
       " 'haroon',\n",
       " 2,\n",
       " 'codanins youtube channel',\n",
       " 'codanins youtube channel',\n",
       " 3,\n",
       " 5,\n",
       " 'ammar',\n",
       " 'codenics',\n",
       " 478,\n",
       " 53.2,\n",
       " False,\n",
       " 7,\n",
       " 8,\n",
       " 10,\n",
       " 12,\n",
       " 15,\n",
       " 20,\n",
       " 30,\n",
       " 35]"
      ]
     },
     "execution_count": 91,
     "metadata": {},
     "output_type": "execute_result"
    }
   ],
   "source": [
    "lists = list1+list2+list3\n",
    "lists"
   ]
  },
  {
   "cell_type": "markdown",
   "id": "876bb12e",
   "metadata": {},
   "source": [
    "## 3. Dictionaries\n",
    "- An unordered collection of elements\n",
    "- key and value\n",
    "- curly brackets or {}\n",
    "- Mutateable/change the values\n"
   ]
  },
  {
   "cell_type": "code",
   "execution_count": 98,
   "id": "4432941c",
   "metadata": {},
   "outputs": [
    {
     "data": {
      "text/plain": [
       "{'Samosa': 30, 'Pakora': 100, 'Raita': 20, 'Salad': 50, 'Chicken Rolls': 30}"
      ]
     },
     "execution_count": 98,
     "metadata": {},
     "output_type": "execute_result"
    }
   ],
   "source": [
    "#Food and their prices\n",
    "food1 = {\"Samosa\":30, \"Pakora\":100,\"Raita\":20, \"Salad\":50, \"Chicken Rolls\":30}\n",
    "food1"
   ]
  },
  {
   "cell_type": "code",
   "execution_count": 99,
   "id": "a407495e",
   "metadata": {},
   "outputs": [
    {
     "data": {
      "text/plain": [
       "dict"
      ]
     },
     "execution_count": 99,
     "metadata": {},
     "output_type": "execute_result"
    }
   ],
   "source": [
    "type(food1)"
   ]
  },
  {
   "cell_type": "code",
   "execution_count": 101,
   "id": "f1ebe866",
   "metadata": {},
   "outputs": [
    {
     "data": {
      "text/plain": [
       "dict_keys(['Samosa', 'Pakora', 'Raita', 'Salad', 'Chicken Rolls'])"
      ]
     },
     "execution_count": 101,
     "metadata": {},
     "output_type": "execute_result"
    }
   ],
   "source": [
    "#Extract data\n",
    "\n",
    "keys1 = food1.keys() \n",
    "keys1"
   ]
  },
  {
   "cell_type": "code",
   "execution_count": 103,
   "id": "4e9e8671",
   "metadata": {},
   "outputs": [
    {
     "data": {
      "text/plain": [
       "dict_values([30, 100, 20, 50, 30])"
      ]
     },
     "execution_count": 103,
     "metadata": {},
     "output_type": "execute_result"
    }
   ],
   "source": [
    "values1 = food1.values()\n",
    "values1"
   ]
  },
  {
   "cell_type": "code",
   "execution_count": 105,
   "id": "f350c0ef",
   "metadata": {},
   "outputs": [
    {
     "data": {
      "text/plain": [
       "{'Samosa': 30,\n",
       " 'Pakora': 100,\n",
       " 'Raita': 20,\n",
       " 'Salad': 50,\n",
       " 'Chicken Rolls': 30,\n",
       " 'Tikki': 10}"
      ]
     },
     "execution_count": 105,
     "metadata": {},
     "output_type": "execute_result"
    }
   ],
   "source": [
    "#adding new element in the list/modify/update\n",
    "food1[\"Tikki\"]=10\n",
    "food1"
   ]
  },
  {
   "cell_type": "code",
   "execution_count": 106,
   "id": "e31d4d3f",
   "metadata": {},
   "outputs": [
    {
     "data": {
      "text/plain": [
       "{'Samosa': 30,\n",
       " 'Pakora': 100,\n",
       " 'Raita': 20,\n",
       " 'Salad': 50,\n",
       " 'Chicken Rolls': 30,\n",
       " 'Tikki': 15}"
      ]
     },
     "execution_count": 106,
     "metadata": {},
     "output_type": "execute_result"
    }
   ],
   "source": [
    "#update the valuse\n",
    "food1[\"Tikki\"]=15\n",
    "food1"
   ]
  },
  {
   "cell_type": "code",
   "execution_count": 107,
   "id": "d8d1cea4",
   "metadata": {},
   "outputs": [
    {
     "data": {
      "text/plain": [
       "{'Dates': 50, 'Choclates': 200, 'Sawayyan': 1000}"
      ]
     },
     "execution_count": 107,
     "metadata": {},
     "output_type": "execute_result"
    }
   ],
   "source": [
    "food2 = {\"Dates\":50, \"Choclates\":200, \"Sawayyan\":1000}\n",
    "food2"
   ]
  },
  {
   "cell_type": "code",
   "execution_count": 109,
   "id": "37f4509d",
   "metadata": {},
   "outputs": [
    {
     "data": {
      "text/plain": [
       "{'Samosa': 30,\n",
       " 'Pakora': 100,\n",
       " 'Raita': 20,\n",
       " 'Salad': 50,\n",
       " 'Chicken Rolls': 30,\n",
       " 'Tikki': 15,\n",
       " 'Dates': 50,\n",
       " 'Choclates': 200,\n",
       " 'Sawayyan': 1000}"
      ]
     },
     "execution_count": 109,
     "metadata": {},
     "output_type": "execute_result"
    }
   ],
   "source": [
    "#concatinate\n",
    "food1.update(food2)\n",
    "food1"
   ]
  },
  {
   "cell_type": "markdown",
   "id": "d35abb83",
   "metadata": {},
   "source": [
    "## 4-Sets\n",
    "- Unordered and un indexed\n",
    "- curly braces {}\n",
    "- no duplicates allowed"
   ]
  },
  {
   "cell_type": "code",
   "execution_count": 110,
   "id": "924f1b03",
   "metadata": {},
   "outputs": [
    {
     "data": {
      "text/plain": [
       "{1, 2.1, 5.2, 'Ammar', 'Faislaabad', 'codenics'}"
      ]
     },
     "execution_count": 110,
     "metadata": {},
     "output_type": "execute_result"
    }
   ],
   "source": [
    "s1 = {1,2.1, 5.2, \"Ammar\", \"codenics\", \"Faislaabad\", True}\n",
    "s1"
   ]
  },
  {
   "cell_type": "code",
   "execution_count": 117,
   "id": "89e0e8e5",
   "metadata": {},
   "outputs": [
    {
     "data": {
      "text/plain": [
       "{1, 2.1, 5.2, 'Ammar', 'Ammar1', 'Faislaabad', 'codenics'}"
      ]
     },
     "execution_count": 117,
     "metadata": {},
     "output_type": "execute_result"
    }
   ],
   "source": [
    "s1.add(\"Ammar1\")\n",
    "s1"
   ]
  },
  {
   "cell_type": "code",
   "execution_count": 118,
   "id": "dee3490f",
   "metadata": {},
   "outputs": [
    {
     "data": {
      "text/plain": [
       "{1, 2.1, 5.2, 'Ammar', 'Faislaabad', 'codenics'}"
      ]
     },
     "execution_count": 118,
     "metadata": {},
     "output_type": "execute_result"
    }
   ],
   "source": [
    "s1.remove(\"Ammar1\")\n",
    "s1"
   ]
  },
  {
   "cell_type": "code",
   "execution_count": null,
   "id": "23362fa9",
   "metadata": {},
   "outputs": [],
   "source": []
  }
 ],
 "metadata": {
  "kernelspec": {
   "display_name": "Python 3 (ipykernel)",
   "language": "python",
   "name": "python3"
  },
  "language_info": {
   "codemirror_mode": {
    "name": "ipython",
    "version": 3
   },
   "file_extension": ".py",
   "mimetype": "text/x-python",
   "name": "python",
   "nbconvert_exporter": "python",
   "pygments_lexer": "ipython3",
   "version": "3.11.4"
  }
 },
 "nbformat": 4,
 "nbformat_minor": 5
}
