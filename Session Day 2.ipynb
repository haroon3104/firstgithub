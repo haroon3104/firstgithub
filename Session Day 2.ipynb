{
 "cells": [
  {
   "cell_type": "code",
   "execution_count": 1,
   "id": "c7315fe5",
   "metadata": {},
   "outputs": [
    {
     "data": {
      "text/plain": [
       "9"
      ]
     },
     "execution_count": 1,
     "metadata": {},
     "output_type": "execute_result"
    }
   ],
   "source": [
    "# body mass index (BMI)\n",
    "9# input function use karna hay\n",
    "# Height\n",
    "# BMI (ask your slef your height, )\n",
    "# weight\n",
    "# calculate BMI\n",
    "# print BMI (My name is....., and my BMI is .....)"
   ]
  },
  {
   "cell_type": "code",
   "execution_count": 2,
   "id": "562e3d3e",
   "metadata": {},
   "outputs": [],
   "source": [
    "# BMI is equal to weight in kg and height in m and its square\n"
   ]
  },
  {
   "cell_type": "code",
   "execution_count": 3,
   "id": "a9cf6b1e",
   "metadata": {
    "scrolled": true
   },
   "outputs": [
    {
     "name": "stdout",
     "output_type": "stream",
     "text": [
      "what is your height?1.74\n"
     ]
    }
   ],
   "source": [
    "height = input(\"what is your height?\")\n"
   ]
  },
  {
   "cell_type": "code",
   "execution_count": 4,
   "id": "2d16d4e3",
   "metadata": {},
   "outputs": [],
   "source": [
    "height = float(height)"
   ]
  },
  {
   "cell_type": "code",
   "execution_count": 5,
   "id": "0849b2b8",
   "metadata": {},
   "outputs": [
    {
     "name": "stdout",
     "output_type": "stream",
     "text": [
      "what is your weight?68\n"
     ]
    }
   ],
   "source": [
    "weight = input(\"what is your weight?\")"
   ]
  },
  {
   "cell_type": "code",
   "execution_count": 6,
   "id": "96f7278e",
   "metadata": {},
   "outputs": [],
   "source": [
    "weight = float(weight)"
   ]
  },
  {
   "cell_type": "code",
   "execution_count": 7,
   "id": "db2edd59",
   "metadata": {},
   "outputs": [
    {
     "name": "stdout",
     "output_type": "stream",
     "text": [
      "what is your name?Haroon\n"
     ]
    }
   ],
   "source": [
    "name = input(\"what is your name?\")"
   ]
  },
  {
   "cell_type": "code",
   "execution_count": 8,
   "id": "b0581383",
   "metadata": {},
   "outputs": [
    {
     "data": {
      "text/plain": [
       "22.460034350640772"
      ]
     },
     "execution_count": 8,
     "metadata": {},
     "output_type": "execute_result"
    }
   ],
   "source": [
    "BMI = weight/height**2\n",
    "BMI"
   ]
  },
  {
   "cell_type": "code",
   "execution_count": 9,
   "id": "c57b6832",
   "metadata": {},
   "outputs": [
    {
     "name": "stdout",
     "output_type": "stream",
     "text": [
      "My name is Haroon and my BMI is  22.460034350640772\n"
     ]
    }
   ],
   "source": [
    "print(\"My name is\", name, \"and my BMI is \", BMI)"
   ]
  }
 ],
 "metadata": {
  "kernelspec": {
   "display_name": "Python 3 (ipykernel)",
   "language": "python",
   "name": "python3"
  },
  "language_info": {
   "codemirror_mode": {
    "name": "ipython",
    "version": 3
   },
   "file_extension": ".py",
   "mimetype": "text/x-python",
   "name": "python",
   "nbconvert_exporter": "python",
   "pygments_lexer": "ipython3",
   "version": "3.11.4"
  }
 },
 "nbformat": 4,
 "nbformat_minor": 5
}
